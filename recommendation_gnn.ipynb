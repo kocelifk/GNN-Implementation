{
  "nbformat": 4,
  "nbformat_minor": 0,
  "metadata": {
    "colab": {
      "provenance": [],
      "authorship_tag": "ABX9TyOgb61/ey58zzrwhdDcvtjq",
      "include_colab_link": true
    },
    "kernelspec": {
      "name": "python3",
      "display_name": "Python 3"
    },
    "language_info": {
      "name": "python"
    }
  },
  "cells": [
    {
      "cell_type": "markdown",
      "metadata": {
        "id": "view-in-github",
        "colab_type": "text"
      },
      "source": [
        "<a href=\"https://colab.research.google.com/github/kocelifk/GNN-Implementation/blob/main/recommendation_gnn.ipynb\" target=\"_parent\"><img src=\"https://colab.research.google.com/assets/colab-badge.svg\" alt=\"Open In Colab\"/></a>"
      ]
    },
    {
      "cell_type": "markdown",
      "source": [],
      "metadata": {
        "id": "Rh-DDt7PSQAj"
      }
    },
    {
      "cell_type": "markdown",
      "source": [
        "Social recommendation system can be represented as user usual social graph and user item graph.\n",
        "\n",
        "\n",
        "\n",
        "in our project our problem is to predict the rating as a part of the recommendation system so here we have tried to implement the basic recommendation system using the social network structure.\n",
        "\n",
        "\n",
        "\n",
        "so this overall architecture having three main components the left one is the user modeling and the item modeling and the rating prediction.\n",
        "\n",
        "in user modeling the aim is to learn the user latent factor. the challenge here how to inherently combine the user item graph and the social graph because in user modeling ou have two kind of thing.\n",
        "\n",
        "\n",
        "one is the item aggregation another is the social aggregation\n",
        "in item aggregation it is utilized to learn item space user latent Vector from the user item graph and the second type of aggregation which is social aggregation where social space is a latent\n",
        "\n",
        "\n"
      ],
      "metadata": {
        "id": "zMwY_vdgWX_W"
      }
    },
    {
      "cell_type": "code",
      "source": [],
      "metadata": {
        "id": "qVK4ekAcZXkG"
      },
      "execution_count": null,
      "outputs": []
    },
    {
      "cell_type": "code",
      "execution_count": null,
      "metadata": {
        "id": "9RONunAeoYtU"
      },
      "outputs": [],
      "source": [
        "from IPython.display import Image\n",
        "import random\n",
        "import pickle\n",
        "import numpy as np\n",
        "import pandas as pd\n",
        "from tqdm import tqdm\n",
        "from scipy.io import loadmat\n",
        "import torch\n",
        "import torch.nn as nn\n",
        "import random\n",
        "import pickle\n",
        "import numpy as np\n",
        "from tqdm import tqdm\n",
        "from torch.utils.data import Dataset, DataLoader"
      ]
    },
    {
      "cell_type": "markdown",
      "source": [],
      "metadata": {
        "id": "NW0WLL6OSNTj"
      }
    },
    {
      "cell_type": "code",
      "source": [
        "rating_info = loadmat('/content/rating.mat')['rating']\n",
        "trust_info = loadmat('/content/trustnetwork.mat')['trustnetwork']"
      ],
      "metadata": {
        "id": "3vaEhTdNoqGc"
      },
      "execution_count": null,
      "outputs": []
    },
    {
      "cell_type": "code",
      "source": [
        "rating_info"
      ],
      "metadata": {
        "colab": {
          "base_uri": "https://localhost:8080/"
        },
        "id": "5e10SSZQo8H8",
        "outputId": "6847a655-99fa-4451-cc67-db2df54161da"
      },
      "execution_count": null,
      "outputs": [
        {
          "output_type": "execute_result",
          "data": {
            "text/plain": [
              "array([[    1,     1,     3,     2],\n",
              "       [    1,     2,     2,     2],\n",
              "       [    1,     3,     3,     2],\n",
              "       ...,\n",
              "       [22166, 43538,     5,     5],\n",
              "       [22166, 38711,     3,     4],\n",
              "       [22166, 41790,     5,     3]], dtype=int32)"
            ]
          },
          "metadata": {},
          "execution_count": 5
        }
      ]
    },
    {
      "cell_type": "code",
      "source": [
        "trust_info"
      ],
      "metadata": {
        "colab": {
          "base_uri": "https://localhost:8080/"
        },
        "id": "eb40M1pdo-mC",
        "outputId": "a0763ad8-79d9-4e49-dd42-283e38c7dd5f"
      },
      "execution_count": null,
      "outputs": [
        {
          "output_type": "execute_result",
          "data": {
            "text/plain": [
              "array([[15373,  9831],\n",
              "       [ 4247,  9831],\n",
              "       [ 4644,  9831],\n",
              "       ...,\n",
              "       [13181, 15645],\n",
              "       [  897,  8000],\n",
              "       [ 8000,   897]], dtype=uint16)"
            ]
          },
          "metadata": {},
          "execution_count": 6
        }
      ]
    },
    {
      "cell_type": "code",
      "source": [
        "rating_list = []\n",
        "trust_list = []\n",
        "\n",
        "u_items_list = []\n",
        "u_users_list = []\n",
        "u_users_items_list = []\n",
        "i_users_list = []\n",
        "\n",
        "user_count = 0\n",
        "item_count = 0\n",
        "rate_count = 0"
      ],
      "metadata": {
        "id": "258EIoJEpBmH"
      },
      "execution_count": null,
      "outputs": []
    },
    {
      "cell_type": "code",
      "source": [
        "for x in rating_info:\n",
        "    uid = x[0]\n",
        "    iid = x[1]\n",
        "    label = x[2]\n",
        "    user_count = max(user_count, uid)\n",
        "    item_count = max(item_count, iid)\n",
        "    rate_count = max(rate_count, label)\n",
        "    rating_list.append([uid, iid, label])"
      ],
      "metadata": {
        "id": "2-yhLIVcpEux"
      },
      "execution_count": null,
      "outputs": []
    },
    {
      "cell_type": "code",
      "source": [
        "pos_list = []\n",
        "for x in rating_list:\n",
        "\tpos_list.append((x[0], x[1], x[2]))"
      ],
      "metadata": {
        "id": "jrfnLGf0pHzM"
      },
      "execution_count": null,
      "outputs": []
    },
    {
      "cell_type": "code",
      "source": [
        "user_count, item_count, rate_count"
      ],
      "metadata": {
        "colab": {
          "base_uri": "https://localhost:8080/"
        },
        "id": "ERzdxgsLpJmE",
        "outputId": "9345fda4-9a8b-4921-966f-791583b7b82a"
      },
      "execution_count": null,
      "outputs": [
        {
          "output_type": "execute_result",
          "data": {
            "text/plain": [
              "(22166, 296277, 27)"
            ]
          },
          "metadata": {},
          "execution_count": 10
        }
      ]
    },
    {
      "cell_type": "code",
      "source": [
        "pos_list[0]"
      ],
      "metadata": {
        "colab": {
          "base_uri": "https://localhost:8080/"
        },
        "id": "4GBQaESqpLv0",
        "outputId": "b606a1a6-88cc-4393-f50b-0c449c87866c"
      },
      "execution_count": null,
      "outputs": [
        {
          "output_type": "execute_result",
          "data": {
            "text/plain": [
              "(1, 1, 3)"
            ]
          },
          "metadata": {},
          "execution_count": 11
        }
      ]
    },
    {
      "cell_type": "markdown",
      "source": [
        "Prepare train, valid, test split of data"
      ],
      "metadata": {
        "id": "QojQrpJVpORg"
      }
    },
    {
      "cell_type": "code",
      "source": [
        "pos_list = list(set(pos_list))\n",
        "random.shuffle(pos_list)\n",
        "num_test = int(len(pos_list) * 0.1)\n",
        "test_set = pos_list[:num_test]\n",
        "valid_set = pos_list[num_test:2 * num_test]\n",
        "train_set = pos_list[2 * num_test:]\n",
        "print('Train samples: {}, Valid samples: {}, Test samples: {}'.format(len(train_set), len(valid_set), len(test_set)))"
      ],
      "metadata": {
        "colab": {
          "base_uri": "https://localhost:8080/"
        },
        "id": "x_BsC_Q8pO3A",
        "outputId": "8920a071-ca6c-4f77-f08d-8f9077f6c387"
      },
      "execution_count": null,
      "outputs": [
        {
          "output_type": "stream",
          "name": "stdout",
          "text": [
            "Train samples: 730054, Valid samples: 91256, Test samples: 91256\n"
          ]
        }
      ]
    },
    {
      "cell_type": "markdown",
      "source": [
        "Saving the data in a pickle file"
      ],
      "metadata": {
        "id": "VoEIpf9nvNCv"
      }
    },
    {
      "cell_type": "code",
      "source": [
        "with open('./dataset_epinions.pkl', 'wb') as f:\n",
        "\tpickle.dump(train_set, f, pickle.HIGHEST_PROTOCOL)\n",
        "\tpickle.dump(valid_set, f, pickle.HIGHEST_PROTOCOL)\n",
        "\tpickle.dump(test_set, f, pickle.HIGHEST_PROTOCOL)\n"
      ],
      "metadata": {
        "id": "VoXG0yBNvNk2"
      },
      "execution_count": null,
      "outputs": []
    },
    {
      "cell_type": "code",
      "source": [
        "train_df = pd.DataFrame(train_set, columns = ['uid', 'iid', 'label'])\n",
        "valid_df = pd.DataFrame(valid_set, columns = ['uid', 'iid', 'label'])\n",
        "test_df = pd.DataFrame(test_set, columns = ['uid', 'iid', 'label'])\n",
        "\n",
        "click_df = pd.DataFrame(rating_list, columns = ['uid', 'iid', 'label'])\n",
        "train_df = train_df.sort_values(axis = 0, ascending = True, by = 'uid')"
      ],
      "metadata": {
        "id": "4FqmI5JcvR-P"
      },
      "execution_count": null,
      "outputs": []
    },
    {
      "cell_type": "code",
      "source": [
        "\n",
        "train_df"
      ],
      "metadata": {
        "colab": {
          "base_uri": "https://localhost:8080/",
          "height": 424
        },
        "id": "FuNxz4ZHvTT7",
        "outputId": "87adb9af-406f-43fc-9d5d-23fd8b8b45d1"
      },
      "execution_count": null,
      "outputs": [
        {
          "output_type": "execute_result",
          "data": {
            "text/plain": [
              "          uid     iid  label\n",
              "354793      1      10      3\n",
              "250067      1       7      3\n",
              "709434      1       4      3\n",
              "524484      1       3      3\n",
              "658492      1       5      3\n",
              "...       ...     ...    ...\n",
              "346272  22166   41819      5\n",
              "63365   22166   41771      5\n",
              "45021   22166  230287      5\n",
              "555404  22166   43538      5\n",
              "187917  22166   23442      5\n",
              "\n",
              "[730054 rows x 3 columns]"
            ],
            "text/html": [
              "\n",
              "  <div id=\"df-53d7438e-66fa-4293-812d-1b89eddb1a1d\" class=\"colab-df-container\">\n",
              "    <div>\n",
              "<style scoped>\n",
              "    .dataframe tbody tr th:only-of-type {\n",
              "        vertical-align: middle;\n",
              "    }\n",
              "\n",
              "    .dataframe tbody tr th {\n",
              "        vertical-align: top;\n",
              "    }\n",
              "\n",
              "    .dataframe thead th {\n",
              "        text-align: right;\n",
              "    }\n",
              "</style>\n",
              "<table border=\"1\" class=\"dataframe\">\n",
              "  <thead>\n",
              "    <tr style=\"text-align: right;\">\n",
              "      <th></th>\n",
              "      <th>uid</th>\n",
              "      <th>iid</th>\n",
              "      <th>label</th>\n",
              "    </tr>\n",
              "  </thead>\n",
              "  <tbody>\n",
              "    <tr>\n",
              "      <th>354793</th>\n",
              "      <td>1</td>\n",
              "      <td>10</td>\n",
              "      <td>3</td>\n",
              "    </tr>\n",
              "    <tr>\n",
              "      <th>250067</th>\n",
              "      <td>1</td>\n",
              "      <td>7</td>\n",
              "      <td>3</td>\n",
              "    </tr>\n",
              "    <tr>\n",
              "      <th>709434</th>\n",
              "      <td>1</td>\n",
              "      <td>4</td>\n",
              "      <td>3</td>\n",
              "    </tr>\n",
              "    <tr>\n",
              "      <th>524484</th>\n",
              "      <td>1</td>\n",
              "      <td>3</td>\n",
              "      <td>3</td>\n",
              "    </tr>\n",
              "    <tr>\n",
              "      <th>658492</th>\n",
              "      <td>1</td>\n",
              "      <td>5</td>\n",
              "      <td>3</td>\n",
              "    </tr>\n",
              "    <tr>\n",
              "      <th>...</th>\n",
              "      <td>...</td>\n",
              "      <td>...</td>\n",
              "      <td>...</td>\n",
              "    </tr>\n",
              "    <tr>\n",
              "      <th>346272</th>\n",
              "      <td>22166</td>\n",
              "      <td>41819</td>\n",
              "      <td>5</td>\n",
              "    </tr>\n",
              "    <tr>\n",
              "      <th>63365</th>\n",
              "      <td>22166</td>\n",
              "      <td>41771</td>\n",
              "      <td>5</td>\n",
              "    </tr>\n",
              "    <tr>\n",
              "      <th>45021</th>\n",
              "      <td>22166</td>\n",
              "      <td>230287</td>\n",
              "      <td>5</td>\n",
              "    </tr>\n",
              "    <tr>\n",
              "      <th>555404</th>\n",
              "      <td>22166</td>\n",
              "      <td>43538</td>\n",
              "      <td>5</td>\n",
              "    </tr>\n",
              "    <tr>\n",
              "      <th>187917</th>\n",
              "      <td>22166</td>\n",
              "      <td>23442</td>\n",
              "      <td>5</td>\n",
              "    </tr>\n",
              "  </tbody>\n",
              "</table>\n",
              "<p>730054 rows × 3 columns</p>\n",
              "</div>\n",
              "    <div class=\"colab-df-buttons\">\n",
              "\n",
              "  <div class=\"colab-df-container\">\n",
              "    <button class=\"colab-df-convert\" onclick=\"convertToInteractive('df-53d7438e-66fa-4293-812d-1b89eddb1a1d')\"\n",
              "            title=\"Convert this dataframe to an interactive table.\"\n",
              "            style=\"display:none;\">\n",
              "\n",
              "  <svg xmlns=\"http://www.w3.org/2000/svg\" height=\"24px\" viewBox=\"0 -960 960 960\">\n",
              "    <path d=\"M120-120v-720h720v720H120Zm60-500h600v-160H180v160Zm220 220h160v-160H400v160Zm0 220h160v-160H400v160ZM180-400h160v-160H180v160Zm440 0h160v-160H620v160ZM180-180h160v-160H180v160Zm440 0h160v-160H620v160Z\"/>\n",
              "  </svg>\n",
              "    </button>\n",
              "\n",
              "  <style>\n",
              "    .colab-df-container {\n",
              "      display:flex;\n",
              "      gap: 12px;\n",
              "    }\n",
              "\n",
              "    .colab-df-convert {\n",
              "      background-color: #E8F0FE;\n",
              "      border: none;\n",
              "      border-radius: 50%;\n",
              "      cursor: pointer;\n",
              "      display: none;\n",
              "      fill: #1967D2;\n",
              "      height: 32px;\n",
              "      padding: 0 0 0 0;\n",
              "      width: 32px;\n",
              "    }\n",
              "\n",
              "    .colab-df-convert:hover {\n",
              "      background-color: #E2EBFA;\n",
              "      box-shadow: 0px 1px 2px rgba(60, 64, 67, 0.3), 0px 1px 3px 1px rgba(60, 64, 67, 0.15);\n",
              "      fill: #174EA6;\n",
              "    }\n",
              "\n",
              "    .colab-df-buttons div {\n",
              "      margin-bottom: 4px;\n",
              "    }\n",
              "\n",
              "    [theme=dark] .colab-df-convert {\n",
              "      background-color: #3B4455;\n",
              "      fill: #D2E3FC;\n",
              "    }\n",
              "\n",
              "    [theme=dark] .colab-df-convert:hover {\n",
              "      background-color: #434B5C;\n",
              "      box-shadow: 0px 1px 3px 1px rgba(0, 0, 0, 0.15);\n",
              "      filter: drop-shadow(0px 1px 2px rgba(0, 0, 0, 0.3));\n",
              "      fill: #FFFFFF;\n",
              "    }\n",
              "  </style>\n",
              "\n",
              "    <script>\n",
              "      const buttonEl =\n",
              "        document.querySelector('#df-53d7438e-66fa-4293-812d-1b89eddb1a1d button.colab-df-convert');\n",
              "      buttonEl.style.display =\n",
              "        google.colab.kernel.accessAllowed ? 'block' : 'none';\n",
              "\n",
              "      async function convertToInteractive(key) {\n",
              "        const element = document.querySelector('#df-53d7438e-66fa-4293-812d-1b89eddb1a1d');\n",
              "        const dataTable =\n",
              "          await google.colab.kernel.invokeFunction('convertToInteractive',\n",
              "                                                    [key], {});\n",
              "        if (!dataTable) return;\n",
              "\n",
              "        const docLinkHtml = 'Like what you see? Visit the ' +\n",
              "          '<a target=\"_blank\" href=https://colab.research.google.com/notebooks/data_table.ipynb>data table notebook</a>'\n",
              "          + ' to learn more about interactive tables.';\n",
              "        element.innerHTML = '';\n",
              "        dataTable['output_type'] = 'display_data';\n",
              "        await google.colab.output.renderOutput(dataTable, element);\n",
              "        const docLink = document.createElement('div');\n",
              "        docLink.innerHTML = docLinkHtml;\n",
              "        element.appendChild(docLink);\n",
              "      }\n",
              "    </script>\n",
              "  </div>\n",
              "\n",
              "\n",
              "<div id=\"df-93f79cb8-e97f-4967-8566-6e3d866e60ea\">\n",
              "  <button class=\"colab-df-quickchart\" onclick=\"quickchart('df-93f79cb8-e97f-4967-8566-6e3d866e60ea')\"\n",
              "            title=\"Suggest charts\"\n",
              "            style=\"display:none;\">\n",
              "\n",
              "<svg xmlns=\"http://www.w3.org/2000/svg\" height=\"24px\"viewBox=\"0 0 24 24\"\n",
              "     width=\"24px\">\n",
              "    <g>\n",
              "        <path d=\"M19 3H5c-1.1 0-2 .9-2 2v14c0 1.1.9 2 2 2h14c1.1 0 2-.9 2-2V5c0-1.1-.9-2-2-2zM9 17H7v-7h2v7zm4 0h-2V7h2v10zm4 0h-2v-4h2v4z\"/>\n",
              "    </g>\n",
              "</svg>\n",
              "  </button>\n",
              "\n",
              "<style>\n",
              "  .colab-df-quickchart {\n",
              "      --bg-color: #E8F0FE;\n",
              "      --fill-color: #1967D2;\n",
              "      --hover-bg-color: #E2EBFA;\n",
              "      --hover-fill-color: #174EA6;\n",
              "      --disabled-fill-color: #AAA;\n",
              "      --disabled-bg-color: #DDD;\n",
              "  }\n",
              "\n",
              "  [theme=dark] .colab-df-quickchart {\n",
              "      --bg-color: #3B4455;\n",
              "      --fill-color: #D2E3FC;\n",
              "      --hover-bg-color: #434B5C;\n",
              "      --hover-fill-color: #FFFFFF;\n",
              "      --disabled-bg-color: #3B4455;\n",
              "      --disabled-fill-color: #666;\n",
              "  }\n",
              "\n",
              "  .colab-df-quickchart {\n",
              "    background-color: var(--bg-color);\n",
              "    border: none;\n",
              "    border-radius: 50%;\n",
              "    cursor: pointer;\n",
              "    display: none;\n",
              "    fill: var(--fill-color);\n",
              "    height: 32px;\n",
              "    padding: 0;\n",
              "    width: 32px;\n",
              "  }\n",
              "\n",
              "  .colab-df-quickchart:hover {\n",
              "    background-color: var(--hover-bg-color);\n",
              "    box-shadow: 0 1px 2px rgba(60, 64, 67, 0.3), 0 1px 3px 1px rgba(60, 64, 67, 0.15);\n",
              "    fill: var(--button-hover-fill-color);\n",
              "  }\n",
              "\n",
              "  .colab-df-quickchart-complete:disabled,\n",
              "  .colab-df-quickchart-complete:disabled:hover {\n",
              "    background-color: var(--disabled-bg-color);\n",
              "    fill: var(--disabled-fill-color);\n",
              "    box-shadow: none;\n",
              "  }\n",
              "\n",
              "  .colab-df-spinner {\n",
              "    border: 2px solid var(--fill-color);\n",
              "    border-color: transparent;\n",
              "    border-bottom-color: var(--fill-color);\n",
              "    animation:\n",
              "      spin 1s steps(1) infinite;\n",
              "  }\n",
              "\n",
              "  @keyframes spin {\n",
              "    0% {\n",
              "      border-color: transparent;\n",
              "      border-bottom-color: var(--fill-color);\n",
              "      border-left-color: var(--fill-color);\n",
              "    }\n",
              "    20% {\n",
              "      border-color: transparent;\n",
              "      border-left-color: var(--fill-color);\n",
              "      border-top-color: var(--fill-color);\n",
              "    }\n",
              "    30% {\n",
              "      border-color: transparent;\n",
              "      border-left-color: var(--fill-color);\n",
              "      border-top-color: var(--fill-color);\n",
              "      border-right-color: var(--fill-color);\n",
              "    }\n",
              "    40% {\n",
              "      border-color: transparent;\n",
              "      border-right-color: var(--fill-color);\n",
              "      border-top-color: var(--fill-color);\n",
              "    }\n",
              "    60% {\n",
              "      border-color: transparent;\n",
              "      border-right-color: var(--fill-color);\n",
              "    }\n",
              "    80% {\n",
              "      border-color: transparent;\n",
              "      border-right-color: var(--fill-color);\n",
              "      border-bottom-color: var(--fill-color);\n",
              "    }\n",
              "    90% {\n",
              "      border-color: transparent;\n",
              "      border-bottom-color: var(--fill-color);\n",
              "    }\n",
              "  }\n",
              "</style>\n",
              "\n",
              "  <script>\n",
              "    async function quickchart(key) {\n",
              "      const quickchartButtonEl =\n",
              "        document.querySelector('#' + key + ' button');\n",
              "      quickchartButtonEl.disabled = true;  // To prevent multiple clicks.\n",
              "      quickchartButtonEl.classList.add('colab-df-spinner');\n",
              "      try {\n",
              "        const charts = await google.colab.kernel.invokeFunction(\n",
              "            'suggestCharts', [key], {});\n",
              "      } catch (error) {\n",
              "        console.error('Error during call to suggestCharts:', error);\n",
              "      }\n",
              "      quickchartButtonEl.classList.remove('colab-df-spinner');\n",
              "      quickchartButtonEl.classList.add('colab-df-quickchart-complete');\n",
              "    }\n",
              "    (() => {\n",
              "      let quickchartButtonEl =\n",
              "        document.querySelector('#df-93f79cb8-e97f-4967-8566-6e3d866e60ea button');\n",
              "      quickchartButtonEl.style.display =\n",
              "        google.colab.kernel.accessAllowed ? 'block' : 'none';\n",
              "    })();\n",
              "  </script>\n",
              "</div>\n",
              "\n",
              "  <div id=\"id_51baddf6-dc1c-4dd1-9f76-fd5949bcd198\">\n",
              "    <style>\n",
              "      .colab-df-generate {\n",
              "        background-color: #E8F0FE;\n",
              "        border: none;\n",
              "        border-radius: 50%;\n",
              "        cursor: pointer;\n",
              "        display: none;\n",
              "        fill: #1967D2;\n",
              "        height: 32px;\n",
              "        padding: 0 0 0 0;\n",
              "        width: 32px;\n",
              "      }\n",
              "\n",
              "      .colab-df-generate:hover {\n",
              "        background-color: #E2EBFA;\n",
              "        box-shadow: 0px 1px 2px rgba(60, 64, 67, 0.3), 0px 1px 3px 1px rgba(60, 64, 67, 0.15);\n",
              "        fill: #174EA6;\n",
              "      }\n",
              "\n",
              "      [theme=dark] .colab-df-generate {\n",
              "        background-color: #3B4455;\n",
              "        fill: #D2E3FC;\n",
              "      }\n",
              "\n",
              "      [theme=dark] .colab-df-generate:hover {\n",
              "        background-color: #434B5C;\n",
              "        box-shadow: 0px 1px 3px 1px rgba(0, 0, 0, 0.15);\n",
              "        filter: drop-shadow(0px 1px 2px rgba(0, 0, 0, 0.3));\n",
              "        fill: #FFFFFF;\n",
              "      }\n",
              "    </style>\n",
              "    <button class=\"colab-df-generate\" onclick=\"generateWithVariable('train_df')\"\n",
              "            title=\"Generate code using this dataframe.\"\n",
              "            style=\"display:none;\">\n",
              "\n",
              "  <svg xmlns=\"http://www.w3.org/2000/svg\" height=\"24px\"viewBox=\"0 0 24 24\"\n",
              "       width=\"24px\">\n",
              "    <path d=\"M7,19H8.4L18.45,9,17,7.55,7,17.6ZM5,21V16.75L18.45,3.32a2,2,0,0,1,2.83,0l1.4,1.43a1.91,1.91,0,0,1,.58,1.4,1.91,1.91,0,0,1-.58,1.4L9.25,21ZM18.45,9,17,7.55Zm-12,3A5.31,5.31,0,0,0,4.9,8.1,5.31,5.31,0,0,0,1,6.5,5.31,5.31,0,0,0,4.9,4.9,5.31,5.31,0,0,0,6.5,1,5.31,5.31,0,0,0,8.1,4.9,5.31,5.31,0,0,0,12,6.5,5.46,5.46,0,0,0,6.5,12Z\"/>\n",
              "  </svg>\n",
              "    </button>\n",
              "    <script>\n",
              "      (() => {\n",
              "      const buttonEl =\n",
              "        document.querySelector('#id_51baddf6-dc1c-4dd1-9f76-fd5949bcd198 button.colab-df-generate');\n",
              "      buttonEl.style.display =\n",
              "        google.colab.kernel.accessAllowed ? 'block' : 'none';\n",
              "\n",
              "      buttonEl.onclick = () => {\n",
              "        google.colab.notebook.generateWithVariable('train_df');\n",
              "      }\n",
              "      })();\n",
              "    </script>\n",
              "  </div>\n",
              "\n",
              "    </div>\n",
              "  </div>\n"
            ],
            "application/vnd.google.colaboratory.intrinsic+json": {
              "type": "dataframe",
              "variable_name": "train_df"
            }
          },
          "metadata": {},
          "execution_count": 15
        }
      ]
    },
    {
      "cell_type": "code",
      "source": [
        "\n",
        "max(train_df['label'].values.tolist())"
      ],
      "metadata": {
        "colab": {
          "base_uri": "https://localhost:8080/"
        },
        "id": "ki8F_SN_vWAZ",
        "outputId": "0fd823ae-4469-43b4-be1c-d8eb6c468df2"
      },
      "execution_count": null,
      "outputs": [
        {
          "output_type": "execute_result",
          "data": {
            "text/plain": [
              "27"
            ]
          },
          "metadata": {},
          "execution_count": 16
        }
      ]
    },
    {
      "cell_type": "code",
      "source": [
        "min(train_df['label'].values.tolist())"
      ],
      "metadata": {
        "colab": {
          "base_uri": "https://localhost:8080/"
        },
        "id": "4v6W0Z14vX5r",
        "outputId": "cc0b8ea6-08d7-448a-8da2-6e3a84e99bc6"
      },
      "execution_count": null,
      "outputs": [
        {
          "output_type": "execute_result",
          "data": {
            "text/plain": [
              "1"
            ]
          },
          "metadata": {},
          "execution_count": 17
        }
      ]
    },
    {
      "cell_type": "markdown",
      "source": [
        "Prepare user-item list"
      ],
      "metadata": {
        "id": "AUAOjvMbvZdl"
      }
    },
    {
      "cell_type": "code",
      "source": [
        "\n",
        "for user in tqdm(range(user_count + 1)):\n",
        "    user_df = train_df[train_df['uid'] == user]\n",
        "    user_items = user_df['iid'].tolist()\n",
        "    user_ratings = user_df['label'].tolist()\n",
        "    if len(user_items) == 0:\n",
        "        u_items_list.append([(0, 0)])\n",
        "    else:\n",
        "        u_items_list.append([(iid, rating) for iid, rating in zip(user_items, user_ratings)])"
      ],
      "metadata": {
        "colab": {
          "base_uri": "https://localhost:8080/"
        },
        "id": "-qqFRBa1vdRP",
        "outputId": "619b4ae4-0e7f-457b-fb7b-556b002bc740"
      },
      "execution_count": null,
      "outputs": [
        {
          "output_type": "stream",
          "name": "stderr",
          "text": [
            "100%|██████████| 22167/22167 [00:25<00:00, 862.68it/s]\n"
          ]
        }
      ]
    },
    {
      "cell_type": "code",
      "source": [
        "u_items_list[3]"
      ],
      "metadata": {
        "colab": {
          "base_uri": "https://localhost:8080/"
        },
        "id": "c1Jle2cwvfPB",
        "outputId": "af68577a-9869-4c74-ce1a-7de71a59c60f"
      },
      "execution_count": null,
      "outputs": [
        {
          "output_type": "execute_result",
          "data": {
            "text/plain": [
              "[(56, 11),\n",
              " (49, 11),\n",
              " (44, 9),\n",
              " (53, 10),\n",
              " (46, 15),\n",
              " (45, 15),\n",
              " (54, 11),\n",
              " (52, 11),\n",
              " (48, 2),\n",
              " (55, 11),\n",
              " (47, 15)]"
            ]
          },
          "metadata": {},
          "execution_count": 19
        }
      ]
    },
    {
      "cell_type": "markdown",
      "source": [
        "Prepare Item User List"
      ],
      "metadata": {
        "id": "KcJ1jIjFvmjr"
      }
    },
    {
      "cell_type": "code",
      "source": [
        "for item in tqdm(range(item_count + 1)):\n",
        "    item_df = train_df[train_df['iid'] == item]\n",
        "    item_users = item_df['uid'].tolist()\n",
        "    item_ratings = item_df['label'].tolist()\n",
        "    if len(item_users) == 0:\n",
        "        i_users_list.append([(0, 0)])\n",
        "    else:\n",
        "        i_users_list.append([(uid, rating) for uid, rating in zip(item_users, item_ratings)])"
      ],
      "metadata": {
        "colab": {
          "base_uri": "https://localhost:8080/"
        },
        "id": "i6_m-PL7vm8J",
        "outputId": "c19cb1a6-1d43-4713-d6da-7c37f7aa1ac4"
      },
      "execution_count": null,
      "outputs": [
        {
          "output_type": "stream",
          "name": "stderr",
          "text": [
            "100%|██████████| 296278/296278 [05:48<00:00, 851.06it/s] \n"
          ]
        }
      ]
    },
    {
      "cell_type": "code",
      "source": [
        "i_users_list[2]"
      ],
      "metadata": {
        "colab": {
          "base_uri": "https://localhost:8080/"
        },
        "id": "mU_wTCHsvpgt",
        "outputId": "0804e728-a85c-4a91-bcda-fe6fedb5a368"
      },
      "execution_count": null,
      "outputs": [
        {
          "output_type": "execute_result",
          "data": {
            "text/plain": [
              "[(1, 2),\n",
              " (562, 2),\n",
              " (840, 2),\n",
              " (1196, 2),\n",
              " (1342, 2),\n",
              " (1351, 2),\n",
              " (1403, 2),\n",
              " (2201, 2),\n",
              " (2525, 2),\n",
              " (2577, 2),\n",
              " (2652, 2),\n",
              " (3067, 2),\n",
              " (3326, 2),\n",
              " (3334, 2),\n",
              " (3446, 2),\n",
              " (3615, 2),\n",
              " (3626, 2),\n",
              " (3939, 2),\n",
              " (4031, 2),\n",
              " (4057, 2),\n",
              " (4138, 2),\n",
              " (4292, 2),\n",
              " (4466, 2),\n",
              " (4680, 2),\n",
              " (4938, 2),\n",
              " (4961, 2),\n",
              " (4977, 2),\n",
              " (5343, 2),\n",
              " (5646, 2),\n",
              " (5754, 2),\n",
              " (5770, 2),\n",
              " (5843, 2),\n",
              " (5912, 2),\n",
              " (5939, 2),\n",
              " (6185, 2),\n",
              " (6245, 2),\n",
              " (6253, 2),\n",
              " (6294, 2),\n",
              " (6326, 2),\n",
              " (6412, 2),\n",
              " (6664, 2),\n",
              " (6752, 2),\n",
              " (6764, 2),\n",
              " (6923, 2),\n",
              " (7097, 2),\n",
              " (7145, 2),\n",
              " (7216, 2),\n",
              " (7468, 2),\n",
              " (7525, 2),\n",
              " (7618, 2),\n",
              " (7690, 2),\n",
              " (7692, 2),\n",
              " (8419, 2),\n",
              " (8495, 2),\n",
              " (8803, 2),\n",
              " (8810, 2),\n",
              " (8925, 2),\n",
              " (9054, 2),\n",
              " (9432, 2),\n",
              " (9729, 2),\n",
              " (9789, 2),\n",
              " (9872, 2),\n",
              " (9898, 2),\n",
              " (10008, 2),\n",
              " (10097, 2),\n",
              " (10329, 2),\n",
              " (10973, 2),\n",
              " (10985, 2),\n",
              " (11353, 2),\n",
              " (11505, 2),\n",
              " (11600, 2),\n",
              " (11801, 2),\n",
              " (12085, 2),\n",
              " (12107, 2),\n",
              " (12146, 2),\n",
              " (12322, 2),\n",
              " (12647, 2),\n",
              " (12807, 2),\n",
              " (13812, 2),\n",
              " (14049, 2),\n",
              " (14401, 2),\n",
              " (14491, 2),\n",
              " (14580, 2),\n",
              " (14854, 2),\n",
              " (14937, 2),\n",
              " (15174, 2),\n",
              " (15247, 2),\n",
              " (15307, 2),\n",
              " (15338, 2),\n",
              " (15463, 2),\n",
              " (15933, 2),\n",
              " (16104, 2),\n",
              " (16120, 2),\n",
              " (16360, 2),\n",
              " (16628, 2),\n",
              " (16679, 2),\n",
              " (16829, 2),\n",
              " (16868, 2),\n",
              " (17066, 2),\n",
              " (17131, 2),\n",
              " (17485, 2),\n",
              " (17634, 2),\n",
              " (17701, 2),\n",
              " (17719, 2),\n",
              " (17880, 2),\n",
              " (17896, 2),\n",
              " (17998, 2),\n",
              " (18410, 2),\n",
              " (18581, 2),\n",
              " (18738, 2),\n",
              " (18870, 2),\n",
              " (19120, 2),\n",
              " (19177, 2),\n",
              " (19288, 2),\n",
              " (19429, 2),\n",
              " (19430, 2),\n",
              " (19523, 2),\n",
              " (19633, 2),\n",
              " (19892, 2),\n",
              " (19923, 2),\n",
              " (20071, 2),\n",
              " (20125, 2),\n",
              " (20191, 2),\n",
              " (20416, 2),\n",
              " (20434, 2),\n",
              " (20467, 2),\n",
              " (20662, 2),\n",
              " (20665, 2),\n",
              " (20823, 2),\n",
              " (21107, 2),\n",
              " (21240, 2),\n",
              " (21790, 2),\n",
              " (21801, 2),\n",
              " (22012, 2)]"
            ]
          },
          "metadata": {},
          "execution_count": 21
        }
      ]
    },
    {
      "cell_type": "markdown",
      "source": [
        "Process trust info"
      ],
      "metadata": {
        "id": "u9SN8zLzvrrn"
      }
    },
    {
      "cell_type": "code",
      "source": [
        "for x in trust_info:\n",
        "    uid = x[0]\n",
        "    fid = x[1]\n",
        "    if uid > user_count or fid > user_count:\n",
        "        continue\n",
        "    trust_list.append([uid, fid])"
      ],
      "metadata": {
        "id": "syS8j59evv5_"
      },
      "execution_count": null,
      "outputs": []
    },
    {
      "cell_type": "code",
      "source": [
        "trust_df = pd.DataFrame(trust_list, columns = ['uid', 'fid'])\n",
        "trust_df = trust_df.sort_values(axis = 0, ascending = True, by = 'uid')\n"
      ],
      "metadata": {
        "id": "94hRSrOLvxxm"
      },
      "execution_count": null,
      "outputs": []
    },
    {
      "cell_type": "code",
      "source": [
        "trust_df"
      ],
      "metadata": {
        "colab": {
          "base_uri": "https://localhost:8080/",
          "height": 424
        },
        "id": "aBTqwvDLvy6C",
        "outputId": "2731e549-8198-4506-c247-6322d2b95647"
      },
      "execution_count": null,
      "outputs": [
        {
          "output_type": "execute_result",
          "data": {
            "text/plain": [
              "          uid    fid\n",
              "283312      2   7659\n",
              "84889       2    829\n",
              "221672      2  21911\n",
              "247685      2   7336\n",
              "306637      2   6339\n",
              "...       ...    ...\n",
              "285484  22164   5864\n",
              "283826  22164  11427\n",
              "285362  22164  10897\n",
              "135466  22165   2198\n",
              "263608  22165  14953\n",
              "\n",
              "[355754 rows x 2 columns]"
            ],
            "text/html": [
              "\n",
              "  <div id=\"df-2066ad10-bf45-494d-8bda-0ecde4b11f23\" class=\"colab-df-container\">\n",
              "    <div>\n",
              "<style scoped>\n",
              "    .dataframe tbody tr th:only-of-type {\n",
              "        vertical-align: middle;\n",
              "    }\n",
              "\n",
              "    .dataframe tbody tr th {\n",
              "        vertical-align: top;\n",
              "    }\n",
              "\n",
              "    .dataframe thead th {\n",
              "        text-align: right;\n",
              "    }\n",
              "</style>\n",
              "<table border=\"1\" class=\"dataframe\">\n",
              "  <thead>\n",
              "    <tr style=\"text-align: right;\">\n",
              "      <th></th>\n",
              "      <th>uid</th>\n",
              "      <th>fid</th>\n",
              "    </tr>\n",
              "  </thead>\n",
              "  <tbody>\n",
              "    <tr>\n",
              "      <th>283312</th>\n",
              "      <td>2</td>\n",
              "      <td>7659</td>\n",
              "    </tr>\n",
              "    <tr>\n",
              "      <th>84889</th>\n",
              "      <td>2</td>\n",
              "      <td>829</td>\n",
              "    </tr>\n",
              "    <tr>\n",
              "      <th>221672</th>\n",
              "      <td>2</td>\n",
              "      <td>21911</td>\n",
              "    </tr>\n",
              "    <tr>\n",
              "      <th>247685</th>\n",
              "      <td>2</td>\n",
              "      <td>7336</td>\n",
              "    </tr>\n",
              "    <tr>\n",
              "      <th>306637</th>\n",
              "      <td>2</td>\n",
              "      <td>6339</td>\n",
              "    </tr>\n",
              "    <tr>\n",
              "      <th>...</th>\n",
              "      <td>...</td>\n",
              "      <td>...</td>\n",
              "    </tr>\n",
              "    <tr>\n",
              "      <th>285484</th>\n",
              "      <td>22164</td>\n",
              "      <td>5864</td>\n",
              "    </tr>\n",
              "    <tr>\n",
              "      <th>283826</th>\n",
              "      <td>22164</td>\n",
              "      <td>11427</td>\n",
              "    </tr>\n",
              "    <tr>\n",
              "      <th>285362</th>\n",
              "      <td>22164</td>\n",
              "      <td>10897</td>\n",
              "    </tr>\n",
              "    <tr>\n",
              "      <th>135466</th>\n",
              "      <td>22165</td>\n",
              "      <td>2198</td>\n",
              "    </tr>\n",
              "    <tr>\n",
              "      <th>263608</th>\n",
              "      <td>22165</td>\n",
              "      <td>14953</td>\n",
              "    </tr>\n",
              "  </tbody>\n",
              "</table>\n",
              "<p>355754 rows × 2 columns</p>\n",
              "</div>\n",
              "    <div class=\"colab-df-buttons\">\n",
              "\n",
              "  <div class=\"colab-df-container\">\n",
              "    <button class=\"colab-df-convert\" onclick=\"convertToInteractive('df-2066ad10-bf45-494d-8bda-0ecde4b11f23')\"\n",
              "            title=\"Convert this dataframe to an interactive table.\"\n",
              "            style=\"display:none;\">\n",
              "\n",
              "  <svg xmlns=\"http://www.w3.org/2000/svg\" height=\"24px\" viewBox=\"0 -960 960 960\">\n",
              "    <path d=\"M120-120v-720h720v720H120Zm60-500h600v-160H180v160Zm220 220h160v-160H400v160Zm0 220h160v-160H400v160ZM180-400h160v-160H180v160Zm440 0h160v-160H620v160ZM180-180h160v-160H180v160Zm440 0h160v-160H620v160Z\"/>\n",
              "  </svg>\n",
              "    </button>\n",
              "\n",
              "  <style>\n",
              "    .colab-df-container {\n",
              "      display:flex;\n",
              "      gap: 12px;\n",
              "    }\n",
              "\n",
              "    .colab-df-convert {\n",
              "      background-color: #E8F0FE;\n",
              "      border: none;\n",
              "      border-radius: 50%;\n",
              "      cursor: pointer;\n",
              "      display: none;\n",
              "      fill: #1967D2;\n",
              "      height: 32px;\n",
              "      padding: 0 0 0 0;\n",
              "      width: 32px;\n",
              "    }\n",
              "\n",
              "    .colab-df-convert:hover {\n",
              "      background-color: #E2EBFA;\n",
              "      box-shadow: 0px 1px 2px rgba(60, 64, 67, 0.3), 0px 1px 3px 1px rgba(60, 64, 67, 0.15);\n",
              "      fill: #174EA6;\n",
              "    }\n",
              "\n",
              "    .colab-df-buttons div {\n",
              "      margin-bottom: 4px;\n",
              "    }\n",
              "\n",
              "    [theme=dark] .colab-df-convert {\n",
              "      background-color: #3B4455;\n",
              "      fill: #D2E3FC;\n",
              "    }\n",
              "\n",
              "    [theme=dark] .colab-df-convert:hover {\n",
              "      background-color: #434B5C;\n",
              "      box-shadow: 0px 1px 3px 1px rgba(0, 0, 0, 0.15);\n",
              "      filter: drop-shadow(0px 1px 2px rgba(0, 0, 0, 0.3));\n",
              "      fill: #FFFFFF;\n",
              "    }\n",
              "  </style>\n",
              "\n",
              "    <script>\n",
              "      const buttonEl =\n",
              "        document.querySelector('#df-2066ad10-bf45-494d-8bda-0ecde4b11f23 button.colab-df-convert');\n",
              "      buttonEl.style.display =\n",
              "        google.colab.kernel.accessAllowed ? 'block' : 'none';\n",
              "\n",
              "      async function convertToInteractive(key) {\n",
              "        const element = document.querySelector('#df-2066ad10-bf45-494d-8bda-0ecde4b11f23');\n",
              "        const dataTable =\n",
              "          await google.colab.kernel.invokeFunction('convertToInteractive',\n",
              "                                                    [key], {});\n",
              "        if (!dataTable) return;\n",
              "\n",
              "        const docLinkHtml = 'Like what you see? Visit the ' +\n",
              "          '<a target=\"_blank\" href=https://colab.research.google.com/notebooks/data_table.ipynb>data table notebook</a>'\n",
              "          + ' to learn more about interactive tables.';\n",
              "        element.innerHTML = '';\n",
              "        dataTable['output_type'] = 'display_data';\n",
              "        await google.colab.output.renderOutput(dataTable, element);\n",
              "        const docLink = document.createElement('div');\n",
              "        docLink.innerHTML = docLinkHtml;\n",
              "        element.appendChild(docLink);\n",
              "      }\n",
              "    </script>\n",
              "  </div>\n",
              "\n",
              "\n",
              "<div id=\"df-e51c3d6c-cb30-45fc-acca-da5bb62fc22c\">\n",
              "  <button class=\"colab-df-quickchart\" onclick=\"quickchart('df-e51c3d6c-cb30-45fc-acca-da5bb62fc22c')\"\n",
              "            title=\"Suggest charts\"\n",
              "            style=\"display:none;\">\n",
              "\n",
              "<svg xmlns=\"http://www.w3.org/2000/svg\" height=\"24px\"viewBox=\"0 0 24 24\"\n",
              "     width=\"24px\">\n",
              "    <g>\n",
              "        <path d=\"M19 3H5c-1.1 0-2 .9-2 2v14c0 1.1.9 2 2 2h14c1.1 0 2-.9 2-2V5c0-1.1-.9-2-2-2zM9 17H7v-7h2v7zm4 0h-2V7h2v10zm4 0h-2v-4h2v4z\"/>\n",
              "    </g>\n",
              "</svg>\n",
              "  </button>\n",
              "\n",
              "<style>\n",
              "  .colab-df-quickchart {\n",
              "      --bg-color: #E8F0FE;\n",
              "      --fill-color: #1967D2;\n",
              "      --hover-bg-color: #E2EBFA;\n",
              "      --hover-fill-color: #174EA6;\n",
              "      --disabled-fill-color: #AAA;\n",
              "      --disabled-bg-color: #DDD;\n",
              "  }\n",
              "\n",
              "  [theme=dark] .colab-df-quickchart {\n",
              "      --bg-color: #3B4455;\n",
              "      --fill-color: #D2E3FC;\n",
              "      --hover-bg-color: #434B5C;\n",
              "      --hover-fill-color: #FFFFFF;\n",
              "      --disabled-bg-color: #3B4455;\n",
              "      --disabled-fill-color: #666;\n",
              "  }\n",
              "\n",
              "  .colab-df-quickchart {\n",
              "    background-color: var(--bg-color);\n",
              "    border: none;\n",
              "    border-radius: 50%;\n",
              "    cursor: pointer;\n",
              "    display: none;\n",
              "    fill: var(--fill-color);\n",
              "    height: 32px;\n",
              "    padding: 0;\n",
              "    width: 32px;\n",
              "  }\n",
              "\n",
              "  .colab-df-quickchart:hover {\n",
              "    background-color: var(--hover-bg-color);\n",
              "    box-shadow: 0 1px 2px rgba(60, 64, 67, 0.3), 0 1px 3px 1px rgba(60, 64, 67, 0.15);\n",
              "    fill: var(--button-hover-fill-color);\n",
              "  }\n",
              "\n",
              "  .colab-df-quickchart-complete:disabled,\n",
              "  .colab-df-quickchart-complete:disabled:hover {\n",
              "    background-color: var(--disabled-bg-color);\n",
              "    fill: var(--disabled-fill-color);\n",
              "    box-shadow: none;\n",
              "  }\n",
              "\n",
              "  .colab-df-spinner {\n",
              "    border: 2px solid var(--fill-color);\n",
              "    border-color: transparent;\n",
              "    border-bottom-color: var(--fill-color);\n",
              "    animation:\n",
              "      spin 1s steps(1) infinite;\n",
              "  }\n",
              "\n",
              "  @keyframes spin {\n",
              "    0% {\n",
              "      border-color: transparent;\n",
              "      border-bottom-color: var(--fill-color);\n",
              "      border-left-color: var(--fill-color);\n",
              "    }\n",
              "    20% {\n",
              "      border-color: transparent;\n",
              "      border-left-color: var(--fill-color);\n",
              "      border-top-color: var(--fill-color);\n",
              "    }\n",
              "    30% {\n",
              "      border-color: transparent;\n",
              "      border-left-color: var(--fill-color);\n",
              "      border-top-color: var(--fill-color);\n",
              "      border-right-color: var(--fill-color);\n",
              "    }\n",
              "    40% {\n",
              "      border-color: transparent;\n",
              "      border-right-color: var(--fill-color);\n",
              "      border-top-color: var(--fill-color);\n",
              "    }\n",
              "    60% {\n",
              "      border-color: transparent;\n",
              "      border-right-color: var(--fill-color);\n",
              "    }\n",
              "    80% {\n",
              "      border-color: transparent;\n",
              "      border-right-color: var(--fill-color);\n",
              "      border-bottom-color: var(--fill-color);\n",
              "    }\n",
              "    90% {\n",
              "      border-color: transparent;\n",
              "      border-bottom-color: var(--fill-color);\n",
              "    }\n",
              "  }\n",
              "</style>\n",
              "\n",
              "  <script>\n",
              "    async function quickchart(key) {\n",
              "      const quickchartButtonEl =\n",
              "        document.querySelector('#' + key + ' button');\n",
              "      quickchartButtonEl.disabled = true;  // To prevent multiple clicks.\n",
              "      quickchartButtonEl.classList.add('colab-df-spinner');\n",
              "      try {\n",
              "        const charts = await google.colab.kernel.invokeFunction(\n",
              "            'suggestCharts', [key], {});\n",
              "      } catch (error) {\n",
              "        console.error('Error during call to suggestCharts:', error);\n",
              "      }\n",
              "      quickchartButtonEl.classList.remove('colab-df-spinner');\n",
              "      quickchartButtonEl.classList.add('colab-df-quickchart-complete');\n",
              "    }\n",
              "    (() => {\n",
              "      let quickchartButtonEl =\n",
              "        document.querySelector('#df-e51c3d6c-cb30-45fc-acca-da5bb62fc22c button');\n",
              "      quickchartButtonEl.style.display =\n",
              "        google.colab.kernel.accessAllowed ? 'block' : 'none';\n",
              "    })();\n",
              "  </script>\n",
              "</div>\n",
              "\n",
              "  <div id=\"id_4add921f-84f6-4cc3-ad32-8c0d78a5d374\">\n",
              "    <style>\n",
              "      .colab-df-generate {\n",
              "        background-color: #E8F0FE;\n",
              "        border: none;\n",
              "        border-radius: 50%;\n",
              "        cursor: pointer;\n",
              "        display: none;\n",
              "        fill: #1967D2;\n",
              "        height: 32px;\n",
              "        padding: 0 0 0 0;\n",
              "        width: 32px;\n",
              "      }\n",
              "\n",
              "      .colab-df-generate:hover {\n",
              "        background-color: #E2EBFA;\n",
              "        box-shadow: 0px 1px 2px rgba(60, 64, 67, 0.3), 0px 1px 3px 1px rgba(60, 64, 67, 0.15);\n",
              "        fill: #174EA6;\n",
              "      }\n",
              "\n",
              "      [theme=dark] .colab-df-generate {\n",
              "        background-color: #3B4455;\n",
              "        fill: #D2E3FC;\n",
              "      }\n",
              "\n",
              "      [theme=dark] .colab-df-generate:hover {\n",
              "        background-color: #434B5C;\n",
              "        box-shadow: 0px 1px 3px 1px rgba(0, 0, 0, 0.15);\n",
              "        filter: drop-shadow(0px 1px 2px rgba(0, 0, 0, 0.3));\n",
              "        fill: #FFFFFF;\n",
              "      }\n",
              "    </style>\n",
              "    <button class=\"colab-df-generate\" onclick=\"generateWithVariable('trust_df')\"\n",
              "            title=\"Generate code using this dataframe.\"\n",
              "            style=\"display:none;\">\n",
              "\n",
              "  <svg xmlns=\"http://www.w3.org/2000/svg\" height=\"24px\"viewBox=\"0 0 24 24\"\n",
              "       width=\"24px\">\n",
              "    <path d=\"M7,19H8.4L18.45,9,17,7.55,7,17.6ZM5,21V16.75L18.45,3.32a2,2,0,0,1,2.83,0l1.4,1.43a1.91,1.91,0,0,1,.58,1.4,1.91,1.91,0,0,1-.58,1.4L9.25,21ZM18.45,9,17,7.55Zm-12,3A5.31,5.31,0,0,0,4.9,8.1,5.31,5.31,0,0,0,1,6.5,5.31,5.31,0,0,0,4.9,4.9,5.31,5.31,0,0,0,6.5,1,5.31,5.31,0,0,0,8.1,4.9,5.31,5.31,0,0,0,12,6.5,5.46,5.46,0,0,0,6.5,12Z\"/>\n",
              "  </svg>\n",
              "    </button>\n",
              "    <script>\n",
              "      (() => {\n",
              "      const buttonEl =\n",
              "        document.querySelector('#id_4add921f-84f6-4cc3-ad32-8c0d78a5d374 button.colab-df-generate');\n",
              "      buttonEl.style.display =\n",
              "        google.colab.kernel.accessAllowed ? 'block' : 'none';\n",
              "\n",
              "      buttonEl.onclick = () => {\n",
              "        google.colab.notebook.generateWithVariable('trust_df');\n",
              "      }\n",
              "      })();\n",
              "    </script>\n",
              "  </div>\n",
              "\n",
              "    </div>\n",
              "  </div>\n"
            ],
            "application/vnd.google.colaboratory.intrinsic+json": {
              "type": "dataframe",
              "variable_name": "trust_df"
            }
          },
          "metadata": {},
          "execution_count": 24
        }
      ]
    },
    {
      "cell_type": "code",
      "source": [
        "for user in tqdm(range(user_count + 1)):\n",
        "    user_df = trust_df[trust_df['uid'] == user]\n",
        "    u_users = user_df['fid'].unique().tolist()\n",
        "    if len(u_users) == 0:\n",
        "        u_users_list.append([0])\n",
        "        u_users_items_list.append([[(0, 0)]])\n",
        "    else:\n",
        "        u_users_list.append(u_users)\n",
        "        uu_items = []\n",
        "        for uid in u_users:\n",
        "            uu_items.append(u_items_list[uid])\n",
        "        u_users_items_list.append(uu_items)"
      ],
      "metadata": {
        "colab": {
          "base_uri": "https://localhost:8080/"
        },
        "id": "mh2kdjixv1Dd",
        "outputId": "9c86d02b-973d-4c08-a990-19a18f3effec"
      },
      "execution_count": null,
      "outputs": [
        {
          "output_type": "stream",
          "name": "stderr",
          "text": [
            "100%|██████████| 22167/22167 [00:15<00:00, 1468.80it/s]\n"
          ]
        }
      ]
    },
    {
      "cell_type": "code",
      "source": [
        "with open('./list_epinions.pkl', 'wb') as f:\n",
        "\tpickle.dump(u_items_list, f, pickle.HIGHEST_PROTOCOL)\n",
        "\tpickle.dump(u_users_list, f, pickle.HIGHEST_PROTOCOL)\n",
        "\tpickle.dump(u_users_items_list, f, pickle.HIGHEST_PROTOCOL)\n",
        "\tpickle.dump(i_users_list, f, pickle.HIGHEST_PROTOCOL)\n",
        "\tpickle.dump((user_count, item_count, rate_count), f, pickle.HIGHEST_PROTOCOL)"
      ],
      "metadata": {
        "id": "ADq6rCmwv3NL"
      },
      "execution_count": null,
      "outputs": []
    },
    {
      "cell_type": "markdown",
      "source": [
        "Prepare GraphDataset Class"
      ],
      "metadata": {
        "id": "LtSP0-3wv5RP"
      }
    },
    {
      "cell_type": "code",
      "source": [
        "\n",
        "class GraphDataset(Dataset):\n",
        "    def __init__(self, data, u_items_list, u_user_list, u_users_items_list, i_users_list):\n",
        "        self.data = data\n",
        "        self.u_items_list = u_items_list\n",
        "        self.u_users_list = u_user_list\n",
        "        self.u_users_items_list = u_users_items_list\n",
        "        self.i_users_list = i_users_list\n",
        "\n",
        "    def __getitem__(self, index):\n",
        "        uid = self.data[index][0]\n",
        "        iid = self.data[index][1]\n",
        "        label = self.data[index][2]\n",
        "        u_items = self.u_items_list[uid]\n",
        "        u_users = self.u_users_list[uid]\n",
        "        u_users_items = self.u_users_items_list[uid]\n",
        "        i_users = self.i_users_list[iid]\n",
        "\n",
        "        return (uid, iid, label), u_items, u_users, u_users_items, i_users\n",
        "\n",
        "    def __len__(self):\n",
        "        return len(self.data)"
      ],
      "metadata": {
        "id": "rdLkWDUsv5l-"
      },
      "execution_count": null,
      "outputs": []
    },
    {
      "cell_type": "markdown",
      "source": [
        "Collate function for padding and truncation"
      ],
      "metadata": {
        "id": "y7UU-F3Vv8w4"
      }
    },
    {
      "cell_type": "code",
      "source": [
        "truncate_len = 50\n",
        "\n",
        "def collate_fn(batch_data):\n",
        "\n",
        "    uids, iids, labels = [], [], []\n",
        "    u_items, u_users, u_users_items, i_users = [], [], [], []\n",
        "    u_items_len, u_users_len, i_users_len = [], [], []\n",
        "\n",
        "    for data, u_items_u, u_users_u, u_users_items_u, i_users_i in batch_data:\n",
        "\n",
        "        (uid, iid, label) = data\n",
        "        uids.append(uid)\n",
        "        iids.append(iid)\n",
        "        labels.append(label)\n",
        "\n",
        "        # user-items\n",
        "        if len(u_items_u) <= truncate_len:\n",
        "            u_items.append(u_items_u)\n",
        "        else:\n",
        "            u_items.append(random.sample(u_items_u, truncate_len))\n",
        "        u_items_len.append(min(len(u_items_u), truncate_len))\n",
        "\n",
        "        # user-users and user-users-items\n",
        "        if len(u_users_u) <= truncate_len:\n",
        "            u_users.append(u_users_u)\n",
        "            u_u_items = []\n",
        "            for uui in u_users_items_u:\n",
        "                if len(uui) < truncate_len:\n",
        "                    u_u_items.append(uui)\n",
        "                else:\n",
        "                    u_u_items.append(random.sample(uui, truncate_len))\n",
        "            u_users_items.append(u_u_items)\n",
        "        else:\n",
        "            sample_index = random.sample(list(range(len(u_users_u))), truncate_len)\n",
        "            u_users.append([u_users_u[si] for si in sample_index])\n",
        "\n",
        "            u_users_items_u_tr = [u_users_items_u[si] for si in sample_index]\n",
        "            u_u_items = []\n",
        "            for uui in u_users_items_u_tr:\n",
        "                if len(uui) < truncate_len:\n",
        "                    u_u_items.append(uui)\n",
        "                else:\n",
        "                    u_u_items.append(random.sample(uui, truncate_len))\n",
        "            u_users_items.append(u_u_items)\n",
        "\n",
        "        u_users_len.append(min(len(u_users_u), truncate_len))\n",
        "\n",
        "        # item-users\n",
        "        if len(i_users_i) <= truncate_len:\n",
        "            i_users.append(i_users_i)\n",
        "        else:\n",
        "            i_users.append(random.sample(i_users_i, truncate_len))\n",
        "        i_users_len.append(min(len(i_users_i), truncate_len))\n",
        "\n",
        "    batch_size = len(batch_data)\n",
        "\n",
        "    # padding\n",
        "    u_items_maxlen = max(u_items_len)\n",
        "    u_users_maxlen = max(u_users_len)\n",
        "    i_users_maxlen = max(i_users_len)\n",
        "\n",
        "    u_item_pad = torch.zeros([batch_size, u_items_maxlen, 2], dtype=torch.long)\n",
        "    for i, ui in enumerate(u_items):\n",
        "        u_item_pad[i, :len(ui), :] = torch.LongTensor(ui)\n",
        "\n",
        "    u_user_pad = torch.zeros([batch_size, u_users_maxlen], dtype=torch.long)\n",
        "    for i, uu in enumerate(u_users):\n",
        "        u_user_pad[i, :len(uu)] = torch.LongTensor(uu)\n",
        "\n",
        "    u_user_item_pad = torch.zeros([batch_size, u_users_maxlen, u_items_maxlen, 2], dtype=torch.long)\n",
        "    for i, uu_items in enumerate(u_users_items):\n",
        "        for j, ui in enumerate(uu_items):\n",
        "            u_user_item_pad[i, j, :len(ui), :] = torch.LongTensor(ui)\n",
        "\n",
        "    i_user_pad = torch.zeros([batch_size, i_users_maxlen, 2], dtype=torch.long)\n",
        "    for i, iu in enumerate(i_users):\n",
        "        i_user_pad[i, :len(iu), :] = torch.LongTensor(iu)\n",
        "\n",
        "    uids = torch.LongTensor(uids)\n",
        "    iids = torch.LongTensor(iids)\n",
        "    labels = torch.FloatTensor(labels)\n",
        "\n",
        "    return uids, iids, labels, u_item_pad, u_user_pad, u_user_item_pad, i_user_pad"
      ],
      "metadata": {
        "id": "PZoNcK7Dv9HD"
      },
      "execution_count": null,
      "outputs": []
    },
    {
      "cell_type": "markdown",
      "source": [
        "Architecture components implemetaion"
      ],
      "metadata": {
        "id": "ORpMAjBQwATu"
      }
    },
    {
      "cell_type": "code",
      "source": [
        "class MLP(nn.Module):\n",
        "    def __init__(self, input_dim, output_dim):\n",
        "        super(MLP, self).__init__()\n",
        "        self.mlp = nn.Sequential(\n",
        "            nn.Linear(input_dim, input_dim//2, bias=True),\n",
        "            nn.ReLU(),\n",
        "            nn.Linear(input_dim//2, output_dim, bias=True)\n",
        "        )\n",
        "\n",
        "    def forward(self, x):\n",
        "        return self.mlp(x)\n",
        "\n",
        "class Aggregator(nn.Module):\n",
        "    def __init__(self, input_dim, output_dim):\n",
        "        super(Aggregator, self).__init__()\n",
        "        self.mlp = nn.Sequential(\n",
        "            nn.Linear(input_dim, output_dim, bias=True),\n",
        "            nn.ReLU()\n",
        "        )\n",
        "\n",
        "    def forward(self, x):\n",
        "        return self.mlp(x)\n"
      ],
      "metadata": {
        "id": "9fyn6WUEwAwN"
      },
      "execution_count": null,
      "outputs": []
    },
    {
      "cell_type": "markdown",
      "source": [
        "UserModel Component"
      ],
      "metadata": {
        "id": "5Y62rHPewFis"
      }
    },
    {
      "cell_type": "code",
      "source": [
        "class UserModel(nn.Module):\n",
        "    def __init__(self, emb_dim, user_emb, item_emb, rating_emb):\n",
        "        super(UserModel, self).__init__()\n",
        "        self.emb_dim = emb_dim\n",
        "        self.user_emb = user_emb\n",
        "        self.item_emb = item_emb\n",
        "        self.rating_emb = rating_emb\n",
        "\n",
        "        self.g_v = MLP(2*self.emb_dim, self.emb_dim)\n",
        "\n",
        "        self.user_item_attn = MLP(2*self.emb_dim, 1)\n",
        "        self.aggr_items = Aggregator(self.emb_dim, self.emb_dim)\n",
        "\n",
        "        self.user_user_attn = MLP(2*self.emb_dim, 1)\n",
        "        self.aggr_neighbors = Aggregator(self.emb_dim, self.emb_dim)\n",
        "\n",
        "        self.mlp = nn.Sequential(\n",
        "            nn.Linear(2*self.emb_dim, self.emb_dim, bias = True),\n",
        "            nn.ReLU(),\n",
        "            nn.Linear(self.emb_dim, self.emb_dim, bias = True),\n",
        "            nn.ReLU(),\n",
        "            nn.Linear(self.emb_dim, self.emb_dim, bias = True),\n",
        "            nn.ReLU()\n",
        "        )\n",
        "\n",
        "        self.device = torch.device('cuda' if torch.cuda.is_available() else 'cpu')\n",
        "        self.eps = 1e-10\n",
        "\n",
        "    def forward(self, uids, u_item_pad, u_user_pad, u_user_item_pad):\n",
        "\n",
        "        q_a = self.item_emb(u_item_pad[:,:,0])\n",
        "        u_item_er = self.rating_emb(u_item_pad[:,:,1])\n",
        "        x_ia = self.g_v(torch.cat([q_a, u_item_er], dim=2).view(-1, 2*self.emb_dim)).view(q_a.size())\n",
        "        mask_u = torch.where(u_item_pad[:,:,0]>0, torch.tensor([1.], device=self.device), torch.tensor([0.], device=self.device))\n",
        "        p_i = mask_u.unsqueeze(2).expand_as(x_ia) * self.user_emb(uids).unsqueeze(1).expand_as(x_ia)\n",
        "        alpha = self.user_item_attn(torch.cat([x_ia, p_i], dim=2).view(-1, 2*self.emb_dim)).view(mask_u.size())\n",
        "        alpha = torch.exp(alpha)*mask_u\n",
        "        alpha = alpha / (torch.sum(alpha, 1).unsqueeze(1).expand_as(alpha) + self.eps)\n",
        "        h_iI = self.aggr_items(torch.sum(alpha.unsqueeze(2).expand_as(x_ia) * x_ia, 1))\n",
        "\n",
        "\n",
        "        q_a_s = self.item_emb(u_user_item_pad[:,:,:,0])\n",
        "        u_user_item_er = self.rating_emb(u_user_item_pad[:,:,:,1])\n",
        "        x_ia_s = self.g_v(torch.cat([q_a_s, u_user_item_er], dim=2).view(-1, 2*self.emb_dim)).view(q_a_s.size())\n",
        "        mask_s = torch.where(u_user_item_pad[:,:,:,0]>0, torch.tensor([1.], device=self.device), torch.tensor([0.], device=self.device))\n",
        "        p_i_s = mask_s.unsqueeze(3).expand_as(x_ia_s) * self.user_emb(u_user_pad).unsqueeze(2).expand_as(x_ia_s)\n",
        "        alpha_s = self.user_item_attn(torch.cat([x_ia_s, p_i_s], dim=3).view(-1, 2*self.emb_dim)).view(mask_s.size())\n",
        "        alpha_s = torch.exp(alpha_s)*mask_s\n",
        "        alpha_s = alpha_s / (torch.sum(alpha_s, 2).unsqueeze(2).expand_as(alpha_s) + self.eps)\n",
        "        h_oI_temp = torch.sum(alpha_s.unsqueeze(3).expand_as(x_ia_s) * x_ia_s, 2)\n",
        "        h_oI = self.aggr_items(h_oI_temp.view(-1, self.emb_dim)).view(h_oI_temp.size())\n",
        "\n",
        "        beta = self.user_user_attn(torch.cat([h_oI, self.user_emb(u_user_pad)], dim = 2).view(-1, 2 * self.emb_dim)).view(u_user_pad.size())\n",
        "        mask_su = torch.where(u_user_pad > 0, torch.tensor([1.], device=self.device), torch.tensor([0.], device=self.device))\n",
        "        beta = torch.exp(beta) * mask_su\n",
        "        beta = beta / (torch.sum(beta, 1).unsqueeze(1).expand_as(beta) + self.eps)\n",
        "        h_iS = self.aggr_neighbors(torch.sum(beta.unsqueeze(2).expand_as(h_oI) * h_oI, 1))\n",
        "\n",
        "        h_i = self.mlp(torch.cat([h_iI, h_iS], dim = 1))\n",
        "\n",
        "        return h_i\n"
      ],
      "metadata": {
        "id": "XkLa7LiOwHIr"
      },
      "execution_count": null,
      "outputs": []
    },
    {
      "cell_type": "markdown",
      "source": [
        "ItemModel Component"
      ],
      "metadata": {
        "id": "Ohfn-L-ywIGK"
      }
    },
    {
      "cell_type": "code",
      "source": [
        "class ItemModel(nn.Module):\n",
        "    def __init__(self, emb_dim, user_emb, item_emb, rating_emb):\n",
        "        super(ItemModel, self).__init__()\n",
        "        self.emb_dim = emb_dim\n",
        "        self.user_emb = user_emb\n",
        "        self.item_emb = item_emb\n",
        "        self.rating_emb = rating_emb\n",
        "\n",
        "        self.g_u = MLP(2*self.emb_dim, self.emb_dim)\n",
        "\n",
        "        self.item_users_attn = MLP(2*self.emb_dim, 1)\n",
        "        self.aggr_users = Aggregator(self.emb_dim, self.emb_dim)\n",
        "\n",
        "        self.device = torch.device('cuda' if torch.cuda.is_available() else 'cpu')\n",
        "        self.eps = 1e-10\n",
        "\n",
        "    def forward(self, iids, i_user_pad):\n",
        "\n",
        "        p_t = self.user_emb(i_user_pad[:,:,0])\n",
        "        i_user_er = self.rating_emb(i_user_pad[:,:,1])\n",
        "        mask_i = torch.where(i_user_pad[:,:,0] > 0, torch.tensor([1.], device=self.device), torch.tensor([0.], device=self.device))\n",
        "        f_jt = self.g_u(torch.cat([p_t, i_user_er], dim = 2).view(-1, 2 * self.emb_dim)).view(p_t.size())\n",
        "        q_j = mask_i.unsqueeze(2).expand_as(f_jt) * self.item_emb(iids).unsqueeze(1).expand_as(f_jt)\n",
        "        mu_jt = self.item_users_attn(torch.cat([f_jt, q_j], dim = 2).view(-1, 2 * self.emb_dim)).view(mask_i.size())\n",
        "        mu_jt = torch.exp(mu_jt) * mask_i\n",
        "        mu_jt = mu_jt / (torch.sum(mu_jt, 1).unsqueeze(1).expand_as(mu_jt) + self.eps)\n",
        "\n",
        "        z_j = self.aggr_users(torch.sum(mu_jt.unsqueeze(2).expand_as(f_jt) * f_jt, 1))\n",
        "\n",
        "        return z_j"
      ],
      "metadata": {
        "id": "bd3P1expwIoa"
      },
      "execution_count": null,
      "outputs": []
    },
    {
      "cell_type": "markdown",
      "source": [
        "Reccomendation Module"
      ],
      "metadata": {
        "id": "laEhoGsnwPC8"
      }
    },
    {
      "cell_type": "code",
      "source": [
        "class RecModule(nn.Module):\n",
        "    def __init__(self, n_users, n_items, n_ratings, emb_dim = 64):\n",
        "        super(RecModule, self).__init__()\n",
        "        self.n_users = n_users\n",
        "        self.n_items = n_items\n",
        "        self.n_ratings = n_ratings\n",
        "        self.emb_dim = emb_dim\n",
        "\n",
        "        self.user_emb = nn.Embedding(self.n_users, self.emb_dim, padding_idx=0)\n",
        "        self.item_emb = nn.Embedding(self.n_items, self.emb_dim, padding_idx=0)\n",
        "        self.rating_emb = nn.Embedding(self.n_ratings, self.emb_dim, padding_idx=0)\n",
        "\n",
        "        self.user_model = UserModel(self.emb_dim, self.user_emb, self.item_emb, self.rating_emb)\n",
        "        self.item_model = ItemModel(self.emb_dim, self.user_emb, self.item_emb, self.rating_emb)\n",
        "\n",
        "        self.mlp = nn.Sequential(\n",
        "            nn.Linear(2*self.emb_dim, self.emb_dim, bias=True),\n",
        "            nn.ReLU(),\n",
        "            nn.Linear(self.emb_dim, self.emb_dim, bias=True),\n",
        "            nn.ReLU(),\n",
        "            nn.Linear(self.emb_dim, 1)\n",
        "        )\n",
        "\n",
        "    def forward(self, uids, iids, u_item_pad, u_user_pad, u_user_item_pad, i_user_pad):\n",
        "\n",
        "        h_i = self.user_model(uids, u_item_pad, u_user_pad, u_user_item_pad)\n",
        "        z_j = self.item_model(iids, i_user_pad)\n",
        "\n",
        "        r_ij = self.mlp(torch.cat([h_i, z_j], dim=1))\n",
        "\n",
        "        return r_ij"
      ],
      "metadata": {
        "id": "DA0UX36iwPZm"
      },
      "execution_count": null,
      "outputs": []
    },
    {
      "cell_type": "markdown",
      "source": [
        "Set Hyperparameters"
      ],
      "metadata": {
        "id": "X90mhPAuwSKd"
      }
    },
    {
      "cell_type": "code",
      "source": [
        "\n",
        "\n",
        "\n",
        "device = torch.device('cuda' if torch.cuda.is_available() else 'cpu')\n",
        "print('device - ' + str(device))\n",
        "batch_size = 128\n",
        "embed_dim = 64\n",
        "learning_rate = 0.001\n",
        "n_epochs = 5"
      ],
      "metadata": {
        "colab": {
          "base_uri": "https://localhost:8080/"
        },
        "id": "oD1MaEtowSlE",
        "outputId": "d604f4f5-08d0-4e6a-b9cf-fbffbfc2d8ae"
      },
      "execution_count": null,
      "outputs": [
        {
          "output_type": "stream",
          "name": "stdout",
          "text": [
            "device - cpu\n"
          ]
        }
      ]
    },
    {
      "cell_type": "code",
      "source": [
        "with open('./dataset_epinions.pkl', 'rb') as f:\n",
        "    train_set = pickle.load(f)\n",
        "    valid_set = pickle.load(f)\n",
        "    test_set = pickle.load(f)\n",
        "\n",
        "with open('./list_epinions.pkl', 'rb') as f:\n",
        "    u_items_list = pickle.load(f)\n",
        "    u_users_list = pickle.load(f)\n",
        "    u_users_items_list = pickle.load(f)\n",
        "    i_users_list = pickle.load(f)\n",
        "    (user_count, item_count, rate_count) = pickle.load(f)"
      ],
      "metadata": {
        "id": "xAObkGP-wVX6"
      },
      "execution_count": null,
      "outputs": []
    },
    {
      "cell_type": "code",
      "source": [
        "train_data = GraphDataset(train_set, u_items_list, u_users_list, u_users_items_list, i_users_list)\n",
        "valid_data = GraphDataset(valid_set, u_items_list, u_users_list, u_users_items_list, i_users_list)\n",
        "test_data = GraphDataset(test_set, u_items_list, u_users_list, u_users_items_list, i_users_list)"
      ],
      "metadata": {
        "id": "4TKcM3oOwXCq"
      },
      "execution_count": null,
      "outputs": []
    },
    {
      "cell_type": "markdown",
      "source": [
        "Prepare DataLoader"
      ],
      "metadata": {
        "id": "DqtPmDEJwa8T"
      }
    },
    {
      "cell_type": "code",
      "source": [
        "train_loader = DataLoader(train_data, batch_size = batch_size, shuffle = True, collate_fn = collate_fn)\n",
        "valid_loader = DataLoader(valid_data, batch_size = batch_size, shuffle = False, collate_fn = collate_fn)\n",
        "test_loader = DataLoader(test_data, batch_size = batch_size, shuffle = False, collate_fn = collate_fn)"
      ],
      "metadata": {
        "id": "_C-Kin5HwcMG"
      },
      "execution_count": null,
      "outputs": []
    },
    {
      "cell_type": "code",
      "source": [
        "\n",
        "len(train_loader)"
      ],
      "metadata": {
        "colab": {
          "base_uri": "https://localhost:8080/"
        },
        "id": "aeFRbz90wdZt",
        "outputId": "247fe80c-d035-4d2f-8e46-8e050aa90efe"
      },
      "execution_count": null,
      "outputs": [
        {
          "output_type": "execute_result",
          "data": {
            "text/plain": [
              "5704"
            ]
          },
          "metadata": {},
          "execution_count": 37
        }
      ]
    },
    {
      "cell_type": "code",
      "source": [
        "\n",
        "\n",
        "\n",
        "for i in train_loader:\n",
        "    for j in i:\n",
        "        print(j)\n",
        "    break"
      ],
      "metadata": {
        "colab": {
          "base_uri": "https://localhost:8080/"
        },
        "id": "7XdKL73zwefc",
        "outputId": "de69493b-20e8-4d34-9ff0-9e15f596c3d3"
      },
      "execution_count": null,
      "outputs": [
        {
          "output_type": "stream",
          "name": "stdout",
          "text": [
            "tensor([12366, 14611, 20767,   349,  3955, 20103,  9850,  3374,  5383,  4285,\n",
            "        20169,  4720, 18490, 13658, 10244,  3206,  9776,  5241,  7966,  1753,\n",
            "         5902,  8954,  2768, 18999,  4528,  5798, 13763,  1189, 17160, 20729,\n",
            "        19071, 12876, 15699,  4322, 19315, 17523,  2034, 20386, 18463,  8799,\n",
            "        14678, 19163,  5991,  9262, 10112, 16074, 14838,  2318, 15089,  3631,\n",
            "        20461,  2034,  5852, 10458, 22136,  4619, 21982, 21448, 12969, 16495,\n",
            "         1695,  2760, 10022, 19460,  8473, 10552, 21147,  6144, 11217, 11194,\n",
            "         7607, 16406, 16059,  1410, 16881,  8920, 10554, 21292, 10686,   693,\n",
            "        19108,  9336,  6480,  5598,   533,  6138, 18737,  8583, 11366, 14523,\n",
            "         2033,  8918,  9770, 12876, 14527, 15352,  8646,  5861, 19163, 21740,\n",
            "          854,  8605, 15092, 21553, 14567, 14848,  9360, 13533,  9410, 13829,\n",
            "        11478,  5053,  1110, 11830, 20609, 11475, 21758,  5838,  9139, 13658,\n",
            "        19625, 21919, 12547, 17866,  6457,  1992,    23, 19471])\n",
            "tensor([ 20719, 223917,    475,   9704,  86936,   2083,  23465,   8055,   7600,\n",
            "         33952,  84884,   3668, 261976, 162581,  41199,  18570,   6806, 105312,\n",
            "          8782,  42371,  64738,  38549,  12690,  14003,   1933,   4388,     42,\n",
            "         26329, 250767,    829,   4554,  78277, 234863,  92170, 227281,    666,\n",
            "         48774,   8412,  68687, 105901,   3389, 268828,  10118,  13587,  62970,\n",
            "        241510,   9214,  55997,  60003,   3053, 282313,  49118,   4009,  23130,\n",
            "           540,  18777,   9907,  94163, 191870,   1596,  40719,   5924, 171845,\n",
            "        271892,  17814, 140018,  23033, 120510, 184931,  19714, 144102,  31100,\n",
            "        241215,  34443, 188500,  51183, 177294,    380, 178604,  19254, 251416,\n",
            "         46896, 124696,   4887,  14716, 119607,   6032, 154293, 186682, 222285,\n",
            "         47396,  22659, 140341, 201992,  91865, 229080,  50775,  12796, 269428,\n",
            "         11248,  12897,  96401,  90512, 290893, 223580, 150801,  10805, 117184,\n",
            "           891, 110108, 188355, 102646,  28051, 191458, 137959,    809,   5662,\n",
            "         19820,    519, 211229, 172398, 294288,  12443, 255921,    186,  46460,\n",
            "           476,    651])\n",
            "tensor([ 8., 12., 19., 20.,  5.,  1.,  5.,  3., 19.,  9.,  5., 10.,  4., 22.,\n",
            "        19., 15.,  3.,  7., 11.,  4., 15., 10.,  6.,  3.,  2.,  4.,  9., 12.,\n",
            "         7.,  3.,  3.,  5., 22., 13., 13., 11.,  4., 11., 10., 11.,  9.,  3.,\n",
            "         3., 19.,  7., 10.,  5., 19.,  3., 19., 18.,  4.,  6., 10., 10.,  3.,\n",
            "        19.,  3.,  8.,  3.,  4.,  6.,  5.,  9.,  3.,  4.,  3.,  8.,  5.,  1.,\n",
            "         4.,  4.,  4., 11.,  8., 18.,  4.,  2., 20., 19., 20.,  2.,  7., 14.,\n",
            "        19., 18., 13.,  4.,  4.,  9.,  3., 10.,  5.,  5., 15.,  4., 18.,  3.,\n",
            "        11., 15.,  3.,  4., 15., 22.,  8., 15., 12.,  3.,  3.,  7.,  8.,  8.,\n",
            "         4.,  3.,  3.,  1., 10., 19.,  3.,  8.,  5.,  5.,  3.,  3., 14.,  4.,\n",
            "        19.,  3.])\n",
            "tensor([[[188396,     18],\n",
            "         [  1111,      8],\n",
            "         [197102,     18],\n",
            "         ...,\n",
            "         [126583,     11],\n",
            "         [197101,     18],\n",
            "         [ 60790,     21]],\n",
            "\n",
            "        [[ 53001,      3],\n",
            "         [ 21827,     14],\n",
            "         [   666,     11],\n",
            "         ...,\n",
            "         [   451,     14],\n",
            "         [  6331,     11],\n",
            "         [  2389,      3]],\n",
            "\n",
            "        [[   617,     11],\n",
            "         [ 24625,     19],\n",
            "         [215770,     10],\n",
            "         ...,\n",
            "         [ 40845,     10],\n",
            "         [  3469,     19],\n",
            "         [179538,     19]],\n",
            "\n",
            "        ...,\n",
            "\n",
            "        [[ 12530,      3],\n",
            "         [ 17130,      3],\n",
            "         [   117,      3],\n",
            "         ...,\n",
            "         [ 21640,      3],\n",
            "         [ 46479,     10],\n",
            "         [ 15577,      3]],\n",
            "\n",
            "        [[   477,     19],\n",
            "         [   183,     10],\n",
            "         [   479,     10],\n",
            "         ...,\n",
            "         [     0,      0],\n",
            "         [     0,      0],\n",
            "         [     0,      0]],\n",
            "\n",
            "        [[233806,      3],\n",
            "         [  9227,      3],\n",
            "         [  2541,      3],\n",
            "         ...,\n",
            "         [  6596,      3],\n",
            "         [ 45853,      3],\n",
            "         [ 26318,      3]]])\n",
            "tensor([[13826, 14212, 21054,  ...,  1780, 14286, 13319],\n",
            "        [    0,     0,     0,  ...,     0,     0,     0],\n",
            "        [12831,     0,     0,  ...,     0,     0,     0],\n",
            "        ...,\n",
            "        [14860,  8975, 13140,  ...,     0,     0,     0],\n",
            "        [10533,    70,     0,  ...,     0,     0,     0],\n",
            "        [20365, 16242,  7800,  ...,     0,     0,     0]])\n",
            "tensor([[[[ 17009,     19],\n",
            "          [  1585,     19],\n",
            "          [ 80505,     19],\n",
            "          ...,\n",
            "          [     0,      0],\n",
            "          [     0,      0],\n",
            "          [     0,      0]],\n",
            "\n",
            "         [[ 24254,      1],\n",
            "          [  1576,     19],\n",
            "          [ 52102,     15],\n",
            "          ...,\n",
            "          [     0,      0],\n",
            "          [     0,      0],\n",
            "          [     0,      0]],\n",
            "\n",
            "         [[   608,      3],\n",
            "          [287316,      3],\n",
            "          [ 49509,      2],\n",
            "          ...,\n",
            "          [     0,      0],\n",
            "          [     0,      0],\n",
            "          [     0,      0]],\n",
            "\n",
            "         ...,\n",
            "\n",
            "         [[ 33959,      8],\n",
            "          [  1239,      1],\n",
            "          [ 18520,      3],\n",
            "          ...,\n",
            "          [   483,      3],\n",
            "          [   688,      4],\n",
            "          [   152,      3]],\n",
            "\n",
            "         [[ 10730,      4],\n",
            "          [  3251,      4],\n",
            "          [  4559,      3],\n",
            "          ...,\n",
            "          [     0,      0],\n",
            "          [     0,      0],\n",
            "          [     0,      0]],\n",
            "\n",
            "         [[ 32891,      3],\n",
            "          [  1289,     10],\n",
            "          [205556,     10],\n",
            "          ...,\n",
            "          [ 45222,      7],\n",
            "          [179189,      9],\n",
            "          [  5077,     19]]],\n",
            "\n",
            "\n",
            "        [[[     0,      0],\n",
            "          [     0,      0],\n",
            "          [     0,      0],\n",
            "          ...,\n",
            "          [     0,      0],\n",
            "          [     0,      0],\n",
            "          [     0,      0]],\n",
            "\n",
            "         [[     0,      0],\n",
            "          [     0,      0],\n",
            "          [     0,      0],\n",
            "          ...,\n",
            "          [     0,      0],\n",
            "          [     0,      0],\n",
            "          [     0,      0]],\n",
            "\n",
            "         [[     0,      0],\n",
            "          [     0,      0],\n",
            "          [     0,      0],\n",
            "          ...,\n",
            "          [     0,      0],\n",
            "          [     0,      0],\n",
            "          [     0,      0]],\n",
            "\n",
            "         ...,\n",
            "\n",
            "         [[     0,      0],\n",
            "          [     0,      0],\n",
            "          [     0,      0],\n",
            "          ...,\n",
            "          [     0,      0],\n",
            "          [     0,      0],\n",
            "          [     0,      0]],\n",
            "\n",
            "         [[     0,      0],\n",
            "          [     0,      0],\n",
            "          [     0,      0],\n",
            "          ...,\n",
            "          [     0,      0],\n",
            "          [     0,      0],\n",
            "          [     0,      0]],\n",
            "\n",
            "         [[     0,      0],\n",
            "          [     0,      0],\n",
            "          [     0,      0],\n",
            "          ...,\n",
            "          [     0,      0],\n",
            "          [     0,      0],\n",
            "          [     0,      0]]],\n",
            "\n",
            "\n",
            "        [[[201240,      3],\n",
            "          [  6136,     17],\n",
            "          [ 35648,     19],\n",
            "          ...,\n",
            "          [     0,      0],\n",
            "          [     0,      0],\n",
            "          [     0,      0]],\n",
            "\n",
            "         [[     0,      0],\n",
            "          [     0,      0],\n",
            "          [     0,      0],\n",
            "          ...,\n",
            "          [     0,      0],\n",
            "          [     0,      0],\n",
            "          [     0,      0]],\n",
            "\n",
            "         [[     0,      0],\n",
            "          [     0,      0],\n",
            "          [     0,      0],\n",
            "          ...,\n",
            "          [     0,      0],\n",
            "          [     0,      0],\n",
            "          [     0,      0]],\n",
            "\n",
            "         ...,\n",
            "\n",
            "         [[     0,      0],\n",
            "          [     0,      0],\n",
            "          [     0,      0],\n",
            "          ...,\n",
            "          [     0,      0],\n",
            "          [     0,      0],\n",
            "          [     0,      0]],\n",
            "\n",
            "         [[     0,      0],\n",
            "          [     0,      0],\n",
            "          [     0,      0],\n",
            "          ...,\n",
            "          [     0,      0],\n",
            "          [     0,      0],\n",
            "          [     0,      0]],\n",
            "\n",
            "         [[     0,      0],\n",
            "          [     0,      0],\n",
            "          [     0,      0],\n",
            "          ...,\n",
            "          [     0,      0],\n",
            "          [     0,      0],\n",
            "          [     0,      0]]],\n",
            "\n",
            "\n",
            "        ...,\n",
            "\n",
            "\n",
            "        [[[225456,      2],\n",
            "          [ 26112,      1],\n",
            "          [  4898,      1],\n",
            "          ...,\n",
            "          [     0,      0],\n",
            "          [     0,      0],\n",
            "          [     0,      0]],\n",
            "\n",
            "         [[ 31532,     19],\n",
            "          [ 27689,      6],\n",
            "          [ 43558,      6],\n",
            "          ...,\n",
            "          [     0,      0],\n",
            "          [     0,      0],\n",
            "          [     0,      0]],\n",
            "\n",
            "         [[  8266,      3],\n",
            "          [  5081,      2],\n",
            "          [ 17900,     19],\n",
            "          ...,\n",
            "          [     0,      0],\n",
            "          [     0,      0],\n",
            "          [     0,      0]],\n",
            "\n",
            "         ...,\n",
            "\n",
            "         [[     0,      0],\n",
            "          [     0,      0],\n",
            "          [     0,      0],\n",
            "          ...,\n",
            "          [     0,      0],\n",
            "          [     0,      0],\n",
            "          [     0,      0]],\n",
            "\n",
            "         [[     0,      0],\n",
            "          [     0,      0],\n",
            "          [     0,      0],\n",
            "          ...,\n",
            "          [     0,      0],\n",
            "          [     0,      0],\n",
            "          [     0,      0]],\n",
            "\n",
            "         [[     0,      0],\n",
            "          [     0,      0],\n",
            "          [     0,      0],\n",
            "          ...,\n",
            "          [     0,      0],\n",
            "          [     0,      0],\n",
            "          [     0,      0]]],\n",
            "\n",
            "\n",
            "        [[[ 10463,      3],\n",
            "          [177203,      3],\n",
            "          [ 14632,      3],\n",
            "          ...,\n",
            "          [     0,      0],\n",
            "          [     0,      0],\n",
            "          [     0,      0]],\n",
            "\n",
            "         [[  3208,      3],\n",
            "          [  3219,      3],\n",
            "          [  3198,      3],\n",
            "          ...,\n",
            "          [  3171,      9],\n",
            "          [  3151,      8],\n",
            "          [  3143,     18]],\n",
            "\n",
            "         [[     0,      0],\n",
            "          [     0,      0],\n",
            "          [     0,      0],\n",
            "          ...,\n",
            "          [     0,      0],\n",
            "          [     0,      0],\n",
            "          [     0,      0]],\n",
            "\n",
            "         ...,\n",
            "\n",
            "         [[     0,      0],\n",
            "          [     0,      0],\n",
            "          [     0,      0],\n",
            "          ...,\n",
            "          [     0,      0],\n",
            "          [     0,      0],\n",
            "          [     0,      0]],\n",
            "\n",
            "         [[     0,      0],\n",
            "          [     0,      0],\n",
            "          [     0,      0],\n",
            "          ...,\n",
            "          [     0,      0],\n",
            "          [     0,      0],\n",
            "          [     0,      0]],\n",
            "\n",
            "         [[     0,      0],\n",
            "          [     0,      0],\n",
            "          [     0,      0],\n",
            "          ...,\n",
            "          [     0,      0],\n",
            "          [     0,      0],\n",
            "          [     0,      0]]],\n",
            "\n",
            "\n",
            "        [[[ 77958,      4],\n",
            "          [ 28821,      3],\n",
            "          [199739,      4],\n",
            "          ...,\n",
            "          [     0,      0],\n",
            "          [     0,      0],\n",
            "          [     0,      0]],\n",
            "\n",
            "         [[ 47381,      3],\n",
            "          [ 39837,      3],\n",
            "          [ 13305,      3],\n",
            "          ...,\n",
            "          [     0,      0],\n",
            "          [     0,      0],\n",
            "          [     0,      0]],\n",
            "\n",
            "         [[  1236,      1],\n",
            "          [ 49091,      3],\n",
            "          [  3347,     19],\n",
            "          ...,\n",
            "          [     0,      0],\n",
            "          [     0,      0],\n",
            "          [     0,      0]],\n",
            "\n",
            "         ...,\n",
            "\n",
            "         [[     0,      0],\n",
            "          [     0,      0],\n",
            "          [     0,      0],\n",
            "          ...,\n",
            "          [     0,      0],\n",
            "          [     0,      0],\n",
            "          [     0,      0]],\n",
            "\n",
            "         [[     0,      0],\n",
            "          [     0,      0],\n",
            "          [     0,      0],\n",
            "          ...,\n",
            "          [     0,      0],\n",
            "          [     0,      0],\n",
            "          [     0,      0]],\n",
            "\n",
            "         [[     0,      0],\n",
            "          [     0,      0],\n",
            "          [     0,      0],\n",
            "          ...,\n",
            "          [     0,      0],\n",
            "          [     0,      0],\n",
            "          [     0,      0]]]])\n",
            "tensor([[[ 2532,     8],\n",
            "         [ 4432,     8],\n",
            "         [ 4628,     8],\n",
            "         ...,\n",
            "         [    0,     0],\n",
            "         [    0,     0],\n",
            "         [    0,     0]],\n",
            "\n",
            "        [[14611,    12],\n",
            "         [    0,     0],\n",
            "         [    0,     0],\n",
            "         ...,\n",
            "         [    0,     0],\n",
            "         [    0,     0],\n",
            "         [    0,     0]],\n",
            "\n",
            "        [[19749,    19],\n",
            "         [ 7867,    19],\n",
            "         [ 4077,    19],\n",
            "         ...,\n",
            "         [ 7473,    19],\n",
            "         [18001,    19],\n",
            "         [20414,    19]],\n",
            "\n",
            "        ...,\n",
            "\n",
            "        [[ 1992,     4],\n",
            "         [    0,     0],\n",
            "         [    0,     0],\n",
            "         ...,\n",
            "         [    0,     0],\n",
            "         [    0,     0],\n",
            "         [    0,     0]],\n",
            "\n",
            "        [[14187,    19],\n",
            "         [10639,    19],\n",
            "         [19009,    19],\n",
            "         ...,\n",
            "         [14318,    19],\n",
            "         [ 6355,    19],\n",
            "         [16375,    19]],\n",
            "\n",
            "        [[   32,     3],\n",
            "         [ 2929,     3],\n",
            "         [ 2983,     3],\n",
            "         ...,\n",
            "         [    0,     0],\n",
            "         [    0,     0],\n",
            "         [    0,     0]]])\n"
          ]
        }
      ]
    },
    {
      "cell_type": "code",
      "source": [
        "model = RecModule(user_count+1, item_count+1, rate_count+1, embed_dim).to(device)"
      ],
      "metadata": {
        "id": "nh2ehrbUwhLL"
      },
      "execution_count": null,
      "outputs": []
    },
    {
      "cell_type": "code",
      "source": [
        "\n",
        "optimizer = torch.optim.RMSprop(model.parameters(), learning_rate)\n",
        "criterion = nn.MSELoss()\n",
        "scheduler = torch.optim.lr_scheduler.StepLR(optimizer, step_size = 4, gamma = 0.1)\n"
      ],
      "metadata": {
        "id": "zOUYRNB-wiQO"
      },
      "execution_count": null,
      "outputs": []
    },
    {
      "cell_type": "markdown",
      "source": [
        "Training"
      ],
      "metadata": {
        "id": "45G7UhtcwjNG"
      }
    },
    {
      "cell_type": "code",
      "source": [
        "for epoch in range(n_epochs):\n",
        "\n",
        "    # Training step\n",
        "    model.train()\n",
        "    s_loss = 0\n",
        "    for i, (uids, iids, labels, u_items, u_users, u_users_items, i_users) in tqdm(enumerate(train_loader), total=len(train_loader)):\n",
        "        uids = uids.to(device)\n",
        "        iids = iids.to(device)\n",
        "        labels = labels.to(device)\n",
        "        u_items = u_items.to(device)\n",
        "        u_users = u_users.to(device)\n",
        "        u_users_items = u_users_items.to(device)\n",
        "        i_users = i_users.to(device)\n",
        "\n",
        "        optimizer.zero_grad()\n",
        "        outputs = model(uids, iids, u_items, u_users, u_users_items, i_users)\n",
        "        loss = criterion(outputs, labels.unsqueeze(1))\n",
        "\n",
        "        loss.backward()\n",
        "        optimizer.step()\n",
        "\n",
        "        loss_val = loss.item()\n",
        "        s_loss += loss_val\n",
        "\n",
        "        iter_num = epoch * len(train_loader) + i + 1\n",
        "\n",
        "    # Validate step\n",
        "    model.eval()\n",
        "    errors = []\n",
        "    with torch.no_grad():\n",
        "        for uids, iids, labels, u_items, u_users, u_users_items, i_users in tqdm(valid_loader):\n",
        "            uids = uids.to(device)\n",
        "            iids = iids.to(device)\n",
        "            labels = labels.to(device)\n",
        "            u_items = u_items.to(device)\n",
        "            u_users = u_users.to(device)\n",
        "            u_users_items = u_users_items.to(device)\n",
        "            i_users = i_users.to(device)\n",
        "            preds = model(uids, iids, u_items, u_users, u_users_items, i_users)\n",
        "            error = torch.abs(preds.squeeze(1) - labels)\n",
        "            errors.extend(error.data.cpu().numpy().tolist())\n",
        "\n",
        "    mae = np.mean(errors)\n",
        "    rmse = np.sqrt(np.mean(np.power(errors, 2)))\n",
        "\n",
        "    scheduler.step()\n",
        "\n",
        "    ckpt_dict = {\n",
        "        'epoch': epoch + 1,\n",
        "        'state_dict': model.state_dict(),\n",
        "        'optimizer': optimizer.state_dict()\n",
        "    }\n",
        "\n",
        "    torch.save(ckpt_dict, './latest_checkpoint.pth')\n",
        "\n",
        "    if epoch == 0:\n",
        "        best_mae = mae\n",
        "    elif mae < best_mae:\n",
        "        best_mae = mae\n",
        "        torch.save(ckpt_dict, './best_checkpoint_{}.pth'.format(embed_dim))\n",
        "\n",
        "    print('Epoch {} validation: MAE: {:.4f}, RMSE: {:.4f}, Best MAE: {:.4f}'.format(epoch+1, mae, rmse, best_mae))"
      ],
      "metadata": {
        "colab": {
          "base_uri": "https://localhost:8080/"
        },
        "id": "_DE7O-oawjiv",
        "outputId": "02e8f945-20e6-4c6f-89ce-e0c8e096b8cd"
      },
      "execution_count": null,
      "outputs": [
        {
          "output_type": "stream",
          "name": "stderr",
          "text": [
            " 53%|█████▎    | 3041/5704 [2:54:51<2:50:28,  3.84s/it]"
          ]
        }
      ]
    },
    {
      "cell_type": "markdown",
      "source": [
        "Test The Model"
      ],
      "metadata": {
        "id": "cngj4si5wmSB"
      }
    },
    {
      "cell_type": "code",
      "source": [
        "\n",
        "\n",
        "\n",
        "embed_dim = 64\n",
        "checkpoint = torch.load('./latest_checkpoint.pth'.format(embed_dim))\n",
        "model = RecModule(user_count+1, item_count+1, rate_count+1, embed_dim).to(device)\n",
        "model.load_state_dict(checkpoint['state_dict'])"
      ],
      "metadata": {
        "id": "0OL9772Iwmwk"
      },
      "execution_count": null,
      "outputs": []
    },
    {
      "cell_type": "code",
      "source": [
        "model.eval()\n",
        "test_errors = []\n",
        "with torch.no_grad():\n",
        "    for uids, iids, labels, u_items, u_users, u_users_items, i_users in tqdm(test_loader):\n",
        "        uids = uids.to(device)\n",
        "        iids = iids.to(device)\n",
        "        labels = labels.to(device)\n",
        "        u_items = u_items.to(device)\n",
        "        u_users = u_users.to(device)\n",
        "        u_users_items = u_users_items.to(device)\n",
        "        i_users = i_users.to(device)\n",
        "        preds = model(uids, iids, u_items, u_users, u_users_items, i_users)\n",
        "        error = torch.abs(preds.squeeze(1) - labels)\n",
        "        test_errors.extend(error.data.cpu().numpy().tolist())\n",
        "\n",
        "test_mae = np.mean(test_errors)\n",
        "test_rmse = np.sqrt(np.mean(np.power(test_errors, 2)))\n",
        "print('Test: MAE: {:.4f}, RMSE: {:.4f}'.format(test_mae, test_rmse))"
      ],
      "metadata": {
        "id": "8RlJRcvfwpk5"
      },
      "execution_count": null,
      "outputs": []
    }
  ]
}